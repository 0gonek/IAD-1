{
 "cells": [
  {
   "cell_type": "markdown",
   "metadata": {},
   "source": [
    "# Курс \"Введение в анализ данных\", весна 2018\n",
    "## Семинар 3. Scikit-learn"
   ]
  },
  {
   "cell_type": "markdown",
   "metadata": {},
   "source": [
    "На этом семинаре мы: \n",
    "- познакомимся с популярной библиотекой для машинного обучения [scikit-learn](http://scikit-learn.org/stable/);\n",
    "- поговорим про оценку качества алгоритмов и кросс-валидацию;\n",
    "- решим несколько простых задач машинного обучения с помощью scikit-learn."
   ]
  },
  {
   "cell_type": "markdown",
   "metadata": {},
   "source": [
    "scikit-learn — это библиотека...:\n",
    "- с большинством популярных и не очень алгоритмов машинного обучения с __единым интерфейсом работы__;\n",
    "- с большинством необходимым для машинного обучения вспомогательных утилит (преобразование признаков, метрики для оценки качества, ...);\n",
    "- с подробной документацией и множеством примеров решения задач.\n",
    "\n",
    "Можно сказать, что почти любой алгоритм, с которым вы столкнётесь (если это не связано со свежей статьёй или нейросетями), уже реализован в scikit-learn. Не бойтесь лезть в поисковик или [документацию](http://scikit-learn.org/stable/)."
   ]
  },
  {
   "cell_type": "markdown",
   "metadata": {},
   "source": [
    "__Начнём.__\n",
    "\n",
    "Импортируем необходимые библиотеки:"
   ]
  },
  {
   "cell_type": "code",
   "execution_count": 1,
   "metadata": {},
   "outputs": [
    {
     "name": "stdout",
     "output_type": "stream",
     "text": [
      "Populating the interactive namespace from numpy and matplotlib\n"
     ]
    }
   ],
   "source": [
    "%pylab inline\n",
    "import pandas as pd"
   ]
  },
  {
   "cell_type": "markdown",
   "metadata": {},
   "source": [
    "Посмотрим на разделы:"
   ]
  },
  {
   "cell_type": "code",
   "execution_count": null,
   "metadata": {
    "collapsed": true
   },
   "outputs": [],
   "source": [
    "from sklearn import <press tab>"
   ]
  },
  {
   "cell_type": "markdown",
   "metadata": {},
   "source": [
    "- datasets — \"игрушечные датасеты\", функции для генерации или загрузки выборок\n",
    "- feature_extraction — функции для извлечения признаков\n",
    "- linear_model — линейный модели машинного обучения\n",
    "- metrics — метрики для оценки качества алгоритмов\n",
    "- preprocessing — преобразование признаков\n",
    "- ..."
   ]
  },
  {
   "cell_type": "markdown",
   "metadata": {},
   "source": [
    "Можно даже подходить к решению задач с помощью scikit-learn по следующей схеме. Хотя на самом деле она вам вряд ли понадобится (базовое представление будет и так в вашей голове).\n",
    "![](sklearn_scheme.jpg)"
   ]
  },
  {
   "cell_type": "markdown",
   "metadata": {},
   "source": [
    "Давайте решим несколько задач машинного обучения с помощью scikit-learn и убедимся, что разные виды задач решаются сходим образом. "
   ]
  },
  {
   "cell_type": "markdown",
   "metadata": {},
   "source": [
    "### Задача классификации"
   ]
  },
  {
   "cell_type": "markdown",
   "metadata": {},
   "source": [
    "Воспользуемся стандартным набором данных для классификации цветков ириса на 3 класса."
   ]
  },
  {
   "cell_type": "code",
   "execution_count": 37,
   "metadata": {},
   "outputs": [
    {
     "data": {
      "text/plain": [
       "dict_keys(['data', 'feature_names', 'target', 'target_names', 'DESCR'])"
      ]
     },
     "execution_count": 37,
     "metadata": {},
     "output_type": "execute_result"
    }
   ],
   "source": [
    "from sklearn.datasets import load_iris\n",
    "\n",
    "iris = load_iris()\n",
    "iris.keys()"
   ]
  },
  {
   "cell_type": "code",
   "execution_count": 38,
   "metadata": {},
   "outputs": [
    {
     "data": {
      "text/plain": [
       "(150, 4)"
      ]
     },
     "execution_count": 38,
     "metadata": {},
     "output_type": "execute_result"
    }
   ],
   "source": [
    "X = iris['data']\n",
    "iris['data'].shape"
   ]
  },
  {
   "cell_type": "markdown",
   "metadata": {},
   "source": [
    "То есть выборка состоит из 150 объектов и 4 признаков. Признаки:"
   ]
  },
  {
   "cell_type": "code",
   "execution_count": 39,
   "metadata": {},
   "outputs": [
    {
     "data": {
      "text/plain": [
       "['sepal length (cm)',\n",
       " 'sepal width (cm)',\n",
       " 'petal length (cm)',\n",
       " 'petal width (cm)']"
      ]
     },
     "execution_count": 39,
     "metadata": {},
     "output_type": "execute_result"
    }
   ],
   "source": [
    "iris['feature_names']"
   ]
  },
  {
   "cell_type": "markdown",
   "metadata": {},
   "source": [
    "Целевая переменная и названия классов:"
   ]
  },
  {
   "cell_type": "code",
   "execution_count": 40,
   "metadata": {},
   "outputs": [
    {
     "data": {
      "text/plain": [
       "array([0, 0, 0, 0, 0, 0, 0, 0, 0, 0, 0, 0, 0, 0, 0, 0, 0, 0, 0, 0, 0, 0, 0,\n",
       "       0, 0, 0, 0, 0, 0, 0, 0, 0, 0, 0, 0, 0, 0, 0, 0, 0, 0, 0, 0, 0, 0, 0,\n",
       "       0, 0, 0, 0, 1, 1, 1, 1, 1, 1, 1, 1, 1, 1, 1, 1, 1, 1, 1, 1, 1, 1, 1,\n",
       "       1, 1, 1, 1, 1, 1, 1, 1, 1, 1, 1, 1, 1, 1, 1, 1, 1, 1, 1, 1, 1, 1, 1,\n",
       "       1, 1, 1, 1, 1, 1, 1, 1, 2, 2, 2, 2, 2, 2, 2, 2, 2, 2, 2, 2, 2, 2, 2,\n",
       "       2, 2, 2, 2, 2, 2, 2, 2, 2, 2, 2, 2, 2, 2, 2, 2, 2, 2, 2, 2, 2, 2, 2,\n",
       "       2, 2, 2, 2, 2, 2, 2, 2, 2, 2, 2, 2])"
      ]
     },
     "execution_count": 40,
     "metadata": {},
     "output_type": "execute_result"
    }
   ],
   "source": [
    "y = iris['target']\n",
    "iris['target']"
   ]
  },
  {
   "cell_type": "code",
   "execution_count": 41,
   "metadata": {},
   "outputs": [
    {
     "data": {
      "text/plain": [
       "array(['setosa', 'versicolor', 'virginica'],\n",
       "      dtype='<U10')"
      ]
     },
     "execution_count": 41,
     "metadata": {},
     "output_type": "execute_result"
    }
   ],
   "source": [
    "iris['target_names']"
   ]
  },
  {
   "cell_type": "markdown",
   "metadata": {},
   "source": [
    "Посмотрим на распределение двух признаков:"
   ]
  },
  {
   "cell_type": "code",
   "execution_count": 42,
   "metadata": {},
   "outputs": [
    {
     "data": {
      "image/png": "[encoded data removed]",
      "text/plain": [
       "<matplotlib.figure.Figure at 0x113888748>"
      ]
     },
     "metadata": {},
     "output_type": "display_data"
    }
   ],
   "source": [
    "x_index = 0\n",
    "y_index = 1\n",
    "\n",
    "# this formatter will label the colorbar with the correct target names\n",
    "formatter = plt.FuncFormatter(lambda i, *args: iris.target_names[int(i)])\n",
    "\n",
    "plt.scatter(iris.data[:, x_index], iris.data[:, y_index],\n",
    "            c=iris.target, cmap=plt.cm.get_cmap('RdYlBu', 3))\n",
    "plt.colorbar(ticks=[0, 1, 2], format=formatter)\n",
    "plt.clim(-0.5, 2.5)\n",
    "plt.xlabel(iris.feature_names[x_index])\n",
    "plt.ylabel(iris.feature_names[y_index])\n",
    "plt.show()"
   ]
  },
  {
   "cell_type": "markdown",
   "metadata": {},
   "source": [
    "Заметим, что уже по этим двум признакам визуально можно резделить часть объектов на классы. \n",
    "\n",
    "Построим решающее дерево, классифицирующее объекты (не будем вдаваться в подробности этого метода). Импортируем его:"
   ]
  },
  {
   "cell_type": "code",
   "execution_count": 43,
   "metadata": {
    "collapsed": true
   },
   "outputs": [],
   "source": [
    "from sklearn.tree import DecisionTreeClassifier"
   ]
  },
  {
   "cell_type": "markdown",
   "metadata": {},
   "source": [
    "Обучим и сделаем предсказания:"
   ]
  },
  {
   "cell_type": "code",
   "execution_count": 44,
   "metadata": {
    "collapsed": true
   },
   "outputs": [],
   "source": [
    "classifier = DecisionTreeClassifier()\n",
    "classifier.fit(X, y)\n",
    "y_predict = classifier.predict(X)"
   ]
  },
  {
   "cell_type": "markdown",
   "metadata": {},
   "source": [
    "Посчитаем долю правильно классифицированных объектов:"
   ]
  },
  {
   "cell_type": "code",
   "execution_count": 45,
   "metadata": {},
   "outputs": [
    {
     "data": {
      "text/plain": [
       "1.0"
      ]
     },
     "execution_count": 45,
     "metadata": {},
     "output_type": "execute_result"
    }
   ],
   "source": [
    "np.mean(y_predict == y)"
   ]
  },
  {
   "cell_type": "markdown",
   "metadata": {},
   "source": [
    "Всё ли мы сделали верно?\n",
    "\n",
    "Мы обучались и тестировались на одной и той же выборке. Наш алгоритм хорошо настроился на этой выборке и показал максимально возможный результат. Мы __переобучились__ на нашей обучающей выборке.\n",
    "\n",
    "Однако в реальности нам вряд ли нужен алгоритм, который будет корректно классифицировать те же самые объекты, метки которых мы и так знаем. Поэтому в машинном обучении важно настраивать алгоритмы и оценивать их качество __на разных выборках__.\n",
    "\n",
    "Разделим нашу выборку на 2 равных части: обучающую и контрольную выборки. Для этого воспользуемся функцией из scikit-learn."
   ]
  },
  {
   "cell_type": "code",
   "execution_count": 12,
   "metadata": {
    "collapsed": true
   },
   "outputs": [],
   "source": [
    "from sklearn.model_selection import train_test_split\n",
    "X_train, X_test, y_train, y_test = train_test_split(X, y, test_size=0.5, random_state=123)"
   ]
  },
  {
   "cell_type": "markdown",
   "metadata": {},
   "source": [
    "Снова обучим алгоритм и сделаем предсказание уже на тестовой выборке:"
   ]
  },
  {
   "cell_type": "code",
   "execution_count": 13,
   "metadata": {
    "collapsed": true,
    "scrolled": true
   },
   "outputs": [],
   "source": [
    "classifier = DecisionTreeClassifier()\n",
    "classifier.fit(X_train, y_train)\n",
    "y_predict = classifier.predict(X_test)"
   ]
  },
  {
   "cell_type": "markdown",
   "metadata": {},
   "source": [
    "Оценим качество:"
   ]
  },
  {
   "cell_type": "code",
   "execution_count": 14,
   "metadata": {},
   "outputs": [
    {
     "data": {
      "text/plain": [
       "0.90666666666666662"
      ]
     },
     "execution_count": 14,
     "metadata": {},
     "output_type": "execute_result"
    }
   ],
   "source": [
    "np.mean(y_predict == y_test)"
   ]
  },
  {
   "cell_type": "markdown",
   "metadata": {},
   "source": [
    "Теперь уже не все объекты верно классифицированы. В реальном мире почти нет задач, где можно получить идеальные предсказания с помощью машинного обучения.\n",
    "\n",
    "Заметим, что в последнем эксперименте мы проигнорировали половину выборки для обучения и оценивали качество так же только по половине выборки. Хочется использовать всю выборку для оценки качества. Для этого вместо использования __отложенной выборки__ используется такая техника, как __кросс-валидация__.\n",
    "\n",
    "![](cv.png)\n",
    "\n",
    "Суть заключается в том, что мы делим выборку на несколько частей, для каждой из частей мы обучаем на оставшихся (за исключением текущей) частях алгоритм и оцениваем качество на выбранной части. Посчитанные метрики для каждой из частей усредняем.\n",
    "\n",
    "Для кросс-валидации можно использовать функцию из scikit-learn. Разбиение можно задавать различными способами, но мы будем пользоваться самым простым: случайно на 2 части."
   ]
  },
  {
   "cell_type": "code",
   "execution_count": 15,
   "metadata": {
    "collapsed": true
   },
   "outputs": [],
   "source": [
    "from sklearn.model_selection import cross_val_score"
   ]
  },
  {
   "cell_type": "code",
   "execution_count": 16,
   "metadata": {},
   "outputs": [
    {
     "data": {
      "text/plain": [
       "0.95333333333333337"
      ]
     },
     "execution_count": 16,
     "metadata": {},
     "output_type": "execute_result"
    }
   ],
   "source": [
    "cross_val_score(classifier, X, y, scoring='accuracy', cv=2).mean()"
   ]
  },
  {
   "cell_type": "markdown",
   "metadata": {},
   "source": [
    "То есть наш pipeline был следующим:\n",
    "\n",
    "1. Загрузить данные;\n",
    "2. Обработать их при надобности, визуализировать для понимания;\n",
    "3. Разбить выборку на обучение и контоль (либо воспользовать кросс-валидацией);\n",
    "4. Обучить некоторый алгоритм машинного обучения (будут изучаться на лекциях);\n",
    "5. Оценить качество по некоторой метрике (будут изучаться на лекциях)."
   ]
  },
  {
   "cell_type": "markdown",
   "metadata": {},
   "source": [
    "### Задача регрессии\n",
    "\n",
    "Загрузим датасет, в котором необходимо предсказывать цену дома."
   ]
  },
  {
   "cell_type": "code",
   "execution_count": 17,
   "metadata": {
    "collapsed": true
   },
   "outputs": [],
   "source": [
    "from sklearn.datasets import load_boston\n",
    "boston = load_boston()"
   ]
  },
  {
   "cell_type": "code",
   "execution_count": 18,
   "metadata": {},
   "outputs": [
    {
     "data": {
      "text/plain": [
       "(506, 13)"
      ]
     },
     "execution_count": 18,
     "metadata": {},
     "output_type": "execute_result"
    }
   ],
   "source": [
    "X = boston['data']\n",
    "boston['data'].shape"
   ]
  },
  {
   "cell_type": "markdown",
   "metadata": {},
   "source": [
    "То есть выборка состоит из 506 объектов и 13 признаков."
   ]
  },
  {
   "cell_type": "code",
   "execution_count": 19,
   "metadata": {},
   "outputs": [
    {
     "data": {
      "text/plain": [
       "array(['CRIM', 'ZN', 'INDUS', 'CHAS', 'NOX', 'RM', 'AGE', 'DIS', 'RAD',\n",
       "       'TAX', 'PTRATIO', 'B', 'LSTAT'],\n",
       "      dtype='<U7')"
      ]
     },
     "execution_count": 19,
     "metadata": {},
     "output_type": "execute_result"
    }
   ],
   "source": [
    "boston['feature_names']"
   ]
  },
  {
   "cell_type": "code",
   "execution_count": 20,
   "metadata": {},
   "outputs": [
    {
     "data": {
      "text/plain": [
       "array([  6.32000000e-03,   1.80000000e+01,   2.31000000e+00,\n",
       "         0.00000000e+00,   5.38000000e-01,   6.57500000e+00,\n",
       "         6.52000000e+01,   4.09000000e+00,   1.00000000e+00,\n",
       "         2.96000000e+02,   1.53000000e+01,   3.96900000e+02,\n",
       "         4.98000000e+00])"
      ]
     },
     "execution_count": 20,
     "metadata": {},
     "output_type": "execute_result"
    }
   ],
   "source": [
    "X[0]"
   ]
  },
  {
   "cell_type": "markdown",
   "metadata": {},
   "source": [
    "Целевая переменная и названия классов:"
   ]
  },
  {
   "cell_type": "code",
   "execution_count": 21,
   "metadata": {},
   "outputs": [
    {
     "data": {
      "text/plain": [
       "array([ 24. ,  21.6,  34.7,  33.4,  36.2,  28.7,  22.9,  27.1,  16.5,\n",
       "        18.9,  15. ,  18.9,  21.7,  20.4,  18.2])"
      ]
     },
     "execution_count": 21,
     "metadata": {},
     "output_type": "execute_result"
    }
   ],
   "source": [
    "y = boston['target']\n",
    "y[:15]"
   ]
  },
  {
   "cell_type": "markdown",
   "metadata": {},
   "source": [
    "Воспользуемся линейной регрессией (то есть выразим цену дома как линейную функцию вида $y_i = a_1 x_1 + a_2 x_2 + \\dots + a_{13} x_{13}$, где $x_i$ — признаки дома). Оценивать качество будем с помощью среднеквадратичной ошибки (о функционалах ошибки будет позднее в лекциях). Выборку будем разбивать на 3 части."
   ]
  },
  {
   "cell_type": "code",
   "execution_count": 22,
   "metadata": {
    "collapsed": true
   },
   "outputs": [],
   "source": [
    "from sklearn.linear_model import LinearRegression\n",
    "regressor = LinearRegression(normalize=True)"
   ]
  },
  {
   "cell_type": "code",
   "execution_count": 23,
   "metadata": {},
   "outputs": [
    {
     "data": {
      "text/plain": [
       "-168.64665360587242"
      ]
     },
     "execution_count": 23,
     "metadata": {},
     "output_type": "execute_result"
    }
   ],
   "source": [
    "cross_val_score(regressor, X, y, scoring='neg_mean_squared_error', cv=3).mean()"
   ]
  },
  {
   "cell_type": "markdown",
   "metadata": {},
   "source": [
    "Попробуем воспользоваться другим алгоритмом — случайным лесом (несколько решающих деревьев, ответы которых усредняются)."
   ]
  },
  {
   "cell_type": "code",
   "execution_count": 24,
   "metadata": {},
   "outputs": [
    {
     "data": {
      "text/plain": [
       "-27.984502894007701"
      ]
     },
     "execution_count": 24,
     "metadata": {},
     "output_type": "execute_result"
    }
   ],
   "source": [
    "from sklearn.ensemble import RandomForestRegressor\n",
    "regressor = RandomForestRegressor()\n",
    "cross_val_score(regressor, X, y, scoring='neg_mean_squared_error', cv=3).mean()"
   ]
  },
  {
   "cell_type": "markdown",
   "metadata": {},
   "source": [
    "Качество заметно улучшилось! \n",
    "\n",
    "У большинства алгоритмов в scikit-learn есть гиперпараметры. Их настройка может помочь алгоритмы ещё лучше настроиться на конкретную задачу и показать более высокое качество. \n",
    "\n",
    "Посмотрим на параметры случайного леса:"
   ]
  },
  {
   "cell_type": "code",
   "execution_count": null,
   "metadata": {
    "collapsed": true
   },
   "outputs": [],
   "source": [
    "RandomForestRegressor(<press shift+tab>)"
   ]
  },
  {
   "cell_type": "markdown",
   "metadata": {},
   "source": [
    "Заметим, что решая задачу регрессии, мы делали то же самое, что и в классификации за исключением используемых методов и метрик для оценки качества. Scikit-learn позволяет работать с большинством алгоритмов с помощью одних и тех методов (fit, predict, ...). Это позволяет быстро экспериментировать с различными методами при решении конкретных задач."
   ]
  },
  {
   "cell_type": "markdown",
   "metadata": {},
   "source": [
    "### Классификация текстов"
   ]
  },
  {
   "cell_type": "code",
   "execution_count": 26,
   "metadata": {},
   "outputs": [
    {
     "name": "stderr",
     "output_type": "stream",
     "text": [
      "Downloading 20news dataset. This may take a few minutes.\n",
      "Downloading dataset from https://ndownloader.figshare.com/files/5975967 (14 MB)\n"
     ]
    },
    {
     "data": {
      "text/plain": [
       "dict_keys(['DESCR', 'target_names', 'target', 'data', 'filenames', 'description'])"
      ]
     },
     "execution_count": 26,
     "metadata": {},
     "output_type": "execute_result"
    }
   ],
   "source": [
    "from sklearn.datasets import fetch_20newsgroups\n",
    "data = fetch_20newsgroups()\n",
    "data.keys()"
   ]
  },
  {
   "cell_type": "markdown",
   "metadata": {},
   "source": [
    "Посмотрим на пример объекта:"
   ]
  },
  {
   "cell_type": "code",
   "execution_count": 27,
   "metadata": {},
   "outputs": [
    {
     "data": {
      "text/plain": [
       "\"From: lerxst@wam.umd.edu (where's my thing)\\nSubject: WHAT car is this!?\\nNntp-Posting-Host: rac3.wam.umd.edu\\nOrganization: University of Maryland, College Park\\nLines: 15\\n\\n I was wondering if anyone out there could enlighten me on this car I saw\\nthe other day. It was a 2-door sports car, looked to be from the late 60s/\\nearly 70s. It was called a Bricklin. The doors were really small. In addition,\\nthe front bumper was separate from the rest of the body. This is \\nall I know. If anyone can tellme a model name, engine specs, years\\nof production, where this car is made, history, or whatever info you\\nhave on this funky looking car, please e-mail.\\n\\nThanks,\\n- IL\\n   ---- brought to you by your neighborhood Lerxst ----\\n\\n\\n\\n\\n\""
      ]
     },
     "execution_count": 27,
     "metadata": {},
     "output_type": "execute_result"
    }
   ],
   "source": [
    "data['data'][0]"
   ]
  },
  {
   "cell_type": "markdown",
   "metadata": {},
   "source": [
    "Классы:"
   ]
  },
  {
   "cell_type": "code",
   "execution_count": 28,
   "metadata": {
    "scrolled": true
   },
   "outputs": [
    {
     "data": {
      "text/plain": [
       "['alt.atheism',\n",
       " 'comp.graphics',\n",
       " 'comp.os.ms-windows.misc',\n",
       " 'comp.sys.ibm.pc.hardware',\n",
       " 'comp.sys.mac.hardware',\n",
       " 'comp.windows.x',\n",
       " 'misc.forsale',\n",
       " 'rec.autos',\n",
       " 'rec.motorcycles',\n",
       " 'rec.sport.baseball',\n",
       " 'rec.sport.hockey',\n",
       " 'sci.crypt',\n",
       " 'sci.electronics',\n",
       " 'sci.med',\n",
       " 'sci.space',\n",
       " 'soc.religion.christian',\n",
       " 'talk.politics.guns',\n",
       " 'talk.politics.mideast',\n",
       " 'talk.politics.misc',\n",
       " 'talk.religion.misc']"
      ]
     },
     "execution_count": 28,
     "metadata": {},
     "output_type": "execute_result"
    }
   ],
   "source": [
    "data['target_names']"
   ]
  },
  {
   "cell_type": "markdown",
   "metadata": {},
   "source": [
    "Объект представляет собой текст с некоторыми элементами форматирования. Большинство алгоритмов машинного обучения не умеют работать напрямую с текстами. Необходимо представить текст в виде некоторого вектора, чтобы с полученной матрицей объекты-признаки воспользоваться некоторым алгоритмом классификации. Самый простой способ сделать это для текста — посчитать, сколько раз встречается каждое слово в каждом тексте.\n",
    "\n",
    "Предварительно разделим выборку на обучающую и контрольную выборки:"
   ]
  },
  {
   "cell_type": "code",
   "execution_count": 29,
   "metadata": {
    "collapsed": true
   },
   "outputs": [],
   "source": [
    "train, test, y_train, y_test = train_test_split(data['data'], data['target'], test_size=0.3)"
   ]
  },
  {
   "cell_type": "markdown",
   "metadata": {},
   "source": [
    "В scikit-learn уже реализован класс для подсчёта встречаемости каждого слова в тексте. У него есть различные параметры, связанные с предобработкой текста."
   ]
  },
  {
   "cell_type": "code",
   "execution_count": 30,
   "metadata": {
    "collapsed": true
   },
   "outputs": [],
   "source": [
    "from sklearn.feature_extraction.text import CountVectorizer\n",
    "vectorizer = CountVectorizer(stop_words='english')\n",
    "train_vectors = vectorizer.fit_transform(train)\n",
    "test_vectors = vectorizer.transform(test)"
   ]
  },
  {
   "cell_type": "markdown",
   "metadata": {},
   "source": [
    "Так как слов в языке довольно много, при этом малое количество из них встречается в каждом конкретном тексте, то в полученной матрице, где $i,j$ позиции находится число \"сколько раз в тексте $i$ встречается слово $j$, возникает много нулевых элементов. Такие матрицы называют разреженными и их удобнее хранить в памяти в ином формате."
   ]
  },
  {
   "cell_type": "code",
   "execution_count": 31,
   "metadata": {},
   "outputs": [
    {
     "data": {
      "text/plain": [
       "<7919x107570 sparse matrix of type '<class 'numpy.int64'>'\n",
       "\twith 921376 stored elements in Compressed Sparse Row format>"
      ]
     },
     "execution_count": 31,
     "metadata": {},
     "output_type": "execute_result"
    }
   ],
   "source": [
    "train_vectors"
   ]
  },
  {
   "cell_type": "code",
   "execution_count": 32,
   "metadata": {},
   "outputs": [
    {
     "data": {
      "text/plain": [
       "matrix([[0, 0, 0, ..., 0, 0, 0]])"
      ]
     },
     "execution_count": 32,
     "metadata": {},
     "output_type": "execute_result"
    }
   ],
   "source": [
    "train_vectors[0].todense()"
   ]
  },
  {
   "cell_type": "markdown",
   "metadata": {},
   "source": [
    "В процессе кодирования текста мы получили отображение слов в индексы:"
   ]
  },
  {
   "cell_type": "code",
   "execution_count": 33,
   "metadata": {},
   "outputs": [
    {
     "data": {
      "text/plain": [
       "{'potok': 78378,\n",
       " 'andre': 22435,\n",
       " 'vigourously': 100536,\n",
       " 'yhvh': 106008,\n",
       " '9uyio': 18338,\n",
       " 'bmfza': 27378,\n",
       " 'picky': 77139,\n",
       " 'fantasies': 44610,\n",
       " 'postcard': 78317,\n",
       " 'ak954': 21564,\n",
       " 'fellas': 45021,\n",
       " 'lyeh': 63757,\n",
       " 'effects': 41475,\n",
       " 'fr2': 46510,\n",
       " 'tilt': 95185,\n",
       " '1f0': 5525,\n",
       " 'humidity': 53122,\n",
       " 'drugstore': 40215,\n",
       " '201': 6713,\n",
       " 'postings': 78336,\n",
       " 'd3lre2e0xm': 36342,\n",
       " 'yields': 106025,\n",
       " 'kler': 60098,\n",
       " 'orcii': 74261,\n",
       " 'nuances': 72670,\n",
       " 'x3026': 104026,\n",
       " '1817': 4729,\n",
       " 'deflect': 37482,\n",
       " 'refinance': 82682,\n",
       " 'cineca': 32246,\n",
       " 'predominatly': 78703,\n",
       " 'yankkes': 105768,\n",
       " 'caspian': 30648,\n",
       " 'dy': 40700,\n",
       " 'crusing': 35517,\n",
       " 'uorpu': 98788,\n",
       " '7wx': 15897,\n",
       " 'grab': 49258,\n",
       " 'monickers': 68705,\n",
       " 'xl8': 104696,\n",
       " 'feial': 44983,\n",
       " '175246': 4572,\n",
       " 'timesteps': 95220,\n",
       " 'ia': 53698,\n",
       " 'lived': 62740,\n",
       " 's3j7f': 85739,\n",
       " 'artificial': 23618,\n",
       " 'c4xcu3': 29302,\n",
       " 'task': 93850,\n",
       " 'drawable_id': 40053,\n",
       " 'dftsrv': 38334,\n",
       " '1qhrq9innlri': 5985,\n",
       " 'bdy8bhi': 25902,\n",
       " '10011011b': 1918,\n",
       " 'tj': 95324,\n",
       " 'hannibal': 50814,\n",
       " 'anwar': 22802,\n",
       " 'm18p': 63938,\n",
       " 'watchit': 102022,\n",
       " '28800': 8290,\n",
       " 'r6145': 81344,\n",
       " 'vaughn': 99922,\n",
       " 'c5gpto': 29474,\n",
       " 'miri': 67763,\n",
       " 'crystal': 35569,\n",
       " 'zfo': 106926,\n",
       " 'yucscx': 106326,\n",
       " 'blamed': 27101,\n",
       " 'c52cli': 29384,\n",
       " 'fdorfdzd4': 44866,\n",
       " 'm5of1': 64238,\n",
       " 'omschrijving': 73885,\n",
       " 'distributions': 39242,\n",
       " 'cmf': 32891,\n",
       " 'clyde': 32865,\n",
       " 'flair': 45714,\n",
       " 'sbar_width': 86476,\n",
       " '8060b': 15999,\n",
       " 'downloaded': 39912,\n",
       " 'dusitsin': 40550,\n",
       " 'fdzafdz': 44872,\n",
       " 'cfx': 31300,\n",
       " 'mlz5v8': 68233,\n",
       " '6068': 13224,\n",
       " 'iid2': 54203,\n",
       " 'naturally': 70899,\n",
       " 'nastiness': 70847,\n",
       " 'illitch': 54342,\n",
       " '2y3': 9098,\n",
       " 'm5q2': 64243,\n",
       " 'stills': 91507,\n",
       " 'nothings': 72373,\n",
       " 'gilmour': 48534,\n",
       " 'reworded': 83860,\n",
       " 'mpqs': 69201,\n",
       " 'kjz772zngu': 60009,\n",
       " 'bbh': 25790,\n",
       " 'leiden': 61880,\n",
       " 'connemara': 34090,\n",
       " '1r0rslinnnv2': 6290,\n",
       " '677': 13739,\n",
       " 'decent': 37202,\n",
       " 'yaquinto': 105777,\n",
       " '868': 16394,\n",
       " 'mbx': 65957,\n",
       " 'persians': 76600,\n",
       " 'autotrace': 24472,\n",
       " 'dragunov': 40026,\n",
       " 'occupied': 73340,\n",
       " 'spiffier': 90380,\n",
       " 'merley': 66840,\n",
       " 'approximated': 23113,\n",
       " 'lhzd3k8rck': 62218,\n",
       " 'mr0i1': 69309,\n",
       " 'bidding': 26682,\n",
       " 'incendiary': 54812,\n",
       " 'elementals': 41820,\n",
       " 'actively': 20540,\n",
       " '7e': 15590,\n",
       " 'tass': 93860,\n",
       " '9f9f9fq': 18064,\n",
       " '_erc': 18883,\n",
       " '734810267': 14915,\n",
       " 'ryno': 85576,\n",
       " '7364': 15042,\n",
       " 'ftn': 46914,\n",
       " 'sterrenkundigen': 91430,\n",
       " '30pm': 9243,\n",
       " 'srlisv': 90807,\n",
       " 'zabbal': 106657,\n",
       " 'ldni': 61671,\n",
       " 'suned': 92429,\n",
       " '5of5': 12932,\n",
       " 'voltatge': 100954,\n",
       " 'condolences': 33898,\n",
       " 'winqvt': 103004,\n",
       " '_99twb': 18536,\n",
       " '8186': 16093,\n",
       " 'faire': 44483,\n",
       " 'ncsu': 71040,\n",
       " '6in': 14176,\n",
       " 'plaintiffs': 77544,\n",
       " 'iacr': 53720,\n",
       " 'abrahamic': 20095,\n",
       " '0rfumrd': 1652,\n",
       " 'methinks': 66963,\n",
       " 'z_c': 106645,\n",
       " 'extro': 44009,\n",
       " 'ihspc': 54182,\n",
       " 'jgc': 57610,\n",
       " 'stems': 91368,\n",
       " 'mie6': 67450,\n",
       " 'regulated': 82821,\n",
       " 'downside': 39922,\n",
       " '1qabe7innaff': 5943,\n",
       " 'c1': 29147,\n",
       " 'sample': 86184,\n",
       " 'categorization': 30727,\n",
       " 'identities': 53986,\n",
       " 'ramenda': 81694,\n",
       " 'vq2w': 101061,\n",
       " '2fdwrw': 8640,\n",
       " 'cobust': 33014,\n",
       " 'accountable': 20320,\n",
       " 'cryptic': 35544,\n",
       " 'xtgetselectiontimeout': 105159,\n",
       " 'cco': 30974,\n",
       " 'irrelevancies': 56368,\n",
       " 'wfw': 102512,\n",
       " 'kendig': 59411,\n",
       " '56th': 12426,\n",
       " '76635846': 15292,\n",
       " 'stuffit': 91939,\n",
       " '10k': 2300,\n",
       " 'txt': 96992,\n",
       " '220115': 7187,\n",
       " '1q34huinnjrv': 5931,\n",
       " 'winchester': 102912,\n",
       " 'oand': 73127,\n",
       " 'damper': 36610,\n",
       " 'fudge': 46967,\n",
       " 'nothingness': 72372,\n",
       " 'greenville': 49520,\n",
       " 'muckler': 69681,\n",
       " 'it9': 56608,\n",
       " 'macllwain': 64714,\n",
       " 'balancing': 25313,\n",
       " 'ephesus': 42676,\n",
       " 'aggregates': 21192,\n",
       " 'dd2uy': 37035,\n",
       " '6ga': 14135,\n",
       " '833': 16196,\n",
       " 'st1144a': 90941,\n",
       " 'mantle': 65260,\n",
       " 'pxa_b825j': 80147,\n",
       " 'acquaintances': 20488,\n",
       " 'absure': 20159,\n",
       " '0000vec': 51,\n",
       " 'cigz': 32194,\n",
       " 'r0zxf': 81231,\n",
       " '1v6': 6494,\n",
       " '4483': 11028,\n",
       " 'renovate': 83172,\n",
       " '1232': 2884,\n",
       " 'leads': 61691,\n",
       " 'lipari': 62617,\n",
       " 'hatun': 51081,\n",
       " 'manitoban': 65223,\n",
       " 'replacing': 83259,\n",
       " 'ufk2o': 97545,\n",
       " '82l': 16177,\n",
       " 'd6d': 36383,\n",
       " 'sfasu': 87796,\n",
       " '2door': 8605,\n",
       " 'ocr104': 73379,\n",
       " 'contingency': 34353,\n",
       " '8tqb8': 17007,\n",
       " 'commercial': 33419,\n",
       " 'prospect': 79491,\n",
       " 'orogin': 74419,\n",
       " 'quiqley': 81047,\n",
       " 'icehawks': 53847,\n",
       " 'boutte': 27862,\n",
       " 'uphill': 98848,\n",
       " 'leaky': 61709,\n",
       " '15540': 3920,\n",
       " 'tc1024': 93942,\n",
       " 'wmbxlt': 103223,\n",
       " 'printers': 79042,\n",
       " 'tovi': 95824,\n",
       " 'rql': 85116,\n",
       " 'rfe': 83895,\n",
       " 'wk22u': 103169,\n",
       " 'bd5': 25868,\n",
       " 'chpetk': 31937,\n",
       " '204036': 6793,\n",
       " '8967': 16577,\n",
       " 'afterwhich': 21130,\n",
       " 'duh': 40439,\n",
       " 'purring': 80024,\n",
       " 'uqy': 98948,\n",
       " 'forrest': 46355,\n",
       " 'txcl': 96984,\n",
       " 'blackpixel': 27077,\n",
       " 'powerplants': 78445,\n",
       " 'prophetically': 79430,\n",
       " '14262': 3466,\n",
       " 'queen': 80966,\n",
       " 'open_output': 74025,\n",
       " 'mjbb': 68022,\n",
       " 'staal': 90996,\n",
       " '30x4': 9251,\n",
       " 'w4ew': 101541,\n",
       " 'chongo': 31891,\n",
       " '8390': 16216,\n",
       " 'cgl': 31336,\n",
       " 'w9e9': 101657,\n",
       " 'computerwetenschappen': 33755,\n",
       " 'pikz': 77218,\n",
       " 'dewight': 38296,\n",
       " 'complient': 33645,\n",
       " 'avy': 24600,\n",
       " 'ci946': 32158,\n",
       " 'kf2ek': 59564,\n",
       " 'vendors': 100157,\n",
       " 'commie': 33429,\n",
       " 'algoritm': 21757,\n",
       " 'uoveiq': 98805,\n",
       " 'xsh': 104999,\n",
       " 'jer114': 57502,\n",
       " '1ecr6': 5498,\n",
       " '32cz': 9407,\n",
       " 'restraining': 83612,\n",
       " 'preprocessors': 78807,\n",
       " 'sonar': 89882,\n",
       " 'jection': 57421,\n",
       " 'qkc': 80577,\n",
       " 'cod': 33044,\n",
       " 'hl4k': 52120,\n",
       " '4uts': 11818,\n",
       " '55g': 12345,\n",
       " 'althouhg': 22004,\n",
       " 'royalties': 85058,\n",
       " 'rlj1rck': 84448,\n",
       " 'h3lnrb8': 50316,\n",
       " '__to': 18665,\n",
       " 'iat': 53769,\n",
       " 'cabinets': 29975,\n",
       " 'gsidler': 49794,\n",
       " 'offing': 73554,\n",
       " '3hzrfdz': 10330,\n",
       " '11111000b': 2474,\n",
       " '0yo': 1824,\n",
       " 'jvu': 58559,\n",
       " 'xraisewindow': 104931,\n",
       " 'rxs': 85533,\n",
       " 'asri9mrmc': 23804,\n",
       " '1atx': 5389,\n",
       " 'g7t': 47440,\n",
       " 'ruppel': 85405,\n",
       " 'lho': 62181,\n",
       " 'vtb6av': 101143,\n",
       " 'orcad': 74248,\n",
       " 'w1w4': 101417,\n",
       " 'snapping': 89543,\n",
       " 'mkdir': 68109,\n",
       " 'lass': 61391,\n",
       " 'borrowed': 27762,\n",
       " 'cisneros': 32317,\n",
       " 'lotto': 63252,\n",
       " 'pkjz7': 77463,\n",
       " 'tricia': 96328,\n",
       " 'foia': 46103,\n",
       " 't0t7j': 93255,\n",
       " 'eden': 41301,\n",
       " '120664': 2796,\n",
       " '0thbq': 1693,\n",
       " 'modplay': 68547,\n",
       " '2vjag': 9046,\n",
       " 'j3bofx': 56911,\n",
       " 'vtjv6e3x95m': 101146,\n",
       " '1894': 4911,\n",
       " '00001001b': 33,\n",
       " 'n9cef9byd9w': 70613,\n",
       " '10001101': 1871,\n",
       " '0ja': 1496,\n",
       " 'intercon': 55766,\n",
       " 'uzhy': 99422,\n",
       " 'a6hp': 19695,\n",
       " 'uitgenodigd': 97643,\n",
       " 'nur': 72739,\n",
       " 'yan': 105760,\n",
       " '463': 11126,\n",
       " 'wtahcing': 103740,\n",
       " '600220': 13168,\n",
       " 'bison': 26931,\n",
       " 'aerea': 20948,\n",
       " 'comarade': 33310,\n",
       " 'mbgm': 65905,\n",
       " 'tentative': 94319,\n",
       " 'daten': 36819,\n",
       " 'w47': 101524,\n",
       " 'transciever': 96059,\n",
       " 'turk': 96794,\n",
       " 'hamburgers': 50690,\n",
       " 'sgccsns': 87832,\n",
       " 'reprints': 83329,\n",
       " 'unsuitable': 98674,\n",
       " 'applicationshellwidgetclass': 23036,\n",
       " 'pb2esac': 76049,\n",
       " 'suggests': 92293,\n",
       " 'perfect': 76470,\n",
       " 'sun6850': 92399,\n",
       " 'lt': 63493,\n",
       " 'powerstrip': 78449,\n",
       " 'relatifs': 82938,\n",
       " 'drives': 40159,\n",
       " 'upc1': 98826,\n",
       " 'jrlkjz': 58263,\n",
       " 'liturgically': 62729,\n",
       " 'broadcasters': 28298,\n",
       " 'clocks': 32761,\n",
       " 'nghia': 71629,\n",
       " 'denmark': 37798,\n",
       " 'mdad': 66307,\n",
       " 'practitioners': 78537,\n",
       " 'mpetro': 69165,\n",
       " '00001100b': 40,\n",
       " '60watts': 13263,\n",
       " 'sportview': 90540,\n",
       " 'mcdallas': 66069,\n",
       " 'odapx': 73431,\n",
       " 'mloj': 68214,\n",
       " '6q': 14304,\n",
       " 'warning': 101947,\n",
       " '3915': 10014,\n",
       " 'c00053': 29123,\n",
       " '8hchy1': 16787,\n",
       " 'brianc22': 28191,\n",
       " 'beat': 25966,\n",
       " 'belive': 26213,\n",
       " '1qvei06dzd3hz': 6240,\n",
       " 'mj5e94eg9hz': 68006,\n",
       " 'id314159': 53914,\n",
       " 'bsd': 28480,\n",
       " '1540': 3871,\n",
       " 'exalted': 43556,\n",
       " '434359': 10946,\n",
       " 'od8': 73426,\n",
       " '96a': 17762,\n",
       " 'xtnallowvert': 105203,\n",
       " 'yankee': 105764,\n",
       " 'factoring': 44420,\n",
       " 'ubw': 97387,\n",
       " 'jap': 57208,\n",
       " '9k9': 18153,\n",
       " 'myx_scucgcx': 70329,\n",
       " 'prompt': 79362,\n",
       " 'intifada': 55948,\n",
       " 'wiliki': 102837,\n",
       " 'specify': 90243,\n",
       " 'calypso': 30172,\n",
       " 'deanza': 37110,\n",
       " 'fpcc': 46467,\n",
       " 'x_sct': 104260,\n",
       " 'aluminization': 22026,\n",
       " 'z3n': 106543,\n",
       " 'mfoster': 67092,\n",
       " '055958': 971,\n",
       " 'christan': 31959,\n",
       " '75': 15144,\n",
       " 'matches': 65647,\n",
       " 'bonner': 27644,\n",
       " 'divert': 39301,\n",
       " 'spacesuits': 90093,\n",
       " 'accelerator': 20233,\n",
       " 'dvawp6a': 40590,\n",
       " 'levzpevz7': 62067,\n",
       " 'traumatized': 96203,\n",
       " 'tradgedy': 95971,\n",
       " '_love_': 19086,\n",
       " 'feynman': 45162,\n",
       " 'g16': 47318,\n",
       " 'northy': 72323,\n",
       " '152328': 3804,\n",
       " 'unauthorised': 97913,\n",
       " 'kidding': 59746,\n",
       " 'rivals': 84268,\n",
       " 'pastoral': 75878,\n",
       " 'yaks': 105738,\n",
       " 'port3': 78216,\n",
       " 'ripbc': 84211,\n",
       " 'advanced': 20864,\n",
       " 'j7_': 56984,\n",
       " '091130': 1267,\n",
       " 'mum8d': 69831,\n",
       " 'kyg': 60825,\n",
       " '500sl': 11936,\n",
       " 'johnson': 58024,\n",
       " 'wtr': 103751,\n",
       " 'dahlquist': 36548,\n",
       " 'really': 82235,\n",
       " 'damn': 36599,\n",
       " 'delighted': 37622,\n",
       " 'battle': 25710,\n",
       " 'albans': 21653,\n",
       " 'gvc': 50115,\n",
       " '8cx_gy_': 16695,\n",
       " 'eric_lindros': 42861,\n",
       " 'rheaume': 83974,\n",
       " 'revitalization': 83819,\n",
       " '200hp': 6698,\n",
       " '7bnzamh': 15559,\n",
       " 'jtt': 58350,\n",
       " 'sushi': 92737,\n",
       " 'driven': 40155,\n",
       " 'boys_': 27912,\n",
       " 'hp81': 52787,\n",
       " '8pslroc': 16923,\n",
       " 'historic': 52028,\n",
       " 'dahlgren': 36547,\n",
       " 'mayflies': 65837,\n",
       " 'abbs': 19982,\n",
       " 'chod3hz': 31864,\n",
       " 'unviewable': 98741,\n",
       " 'hn4': 52207,\n",
       " 'green_max': 49503,\n",
       " 'amadi': 22064,\n",
       " 'lmx': 62936,\n",
       " 'mcmelmon': 66184,\n",
       " '_jewish': 19033,\n",
       " '3372': 9491,\n",
       " 'mq0r': 69227,\n",
       " 'nonexistence': 72193,\n",
       " '4053': 10731,\n",
       " 'kn3': 60180,\n",
       " 'ctdtzv8bx': 35710,\n",
       " 'fibercom': 45283,\n",
       " 'translational': 96124,\n",
       " '130854': 3106,\n",
       " 'm7r': 64376,\n",
       " 'azh91': 24797,\n",
       " '170493104859': 4429,\n",
       " 'systematic': 93182,\n",
       " 'faulted': 44753,\n",
       " 'arglist': 23363,\n",
       " '8565361': 16329,\n",
       " 'torx': 95748,\n",
       " 'decreed': 37302,\n",
       " '_gospel': 18948,\n",
       " 'individualists': 55034,\n",
       " 'kjznahfnki': 60019,\n",
       " 'curve': 35921,\n",
       " '19151': 5001,\n",
       " '9054': 17157,\n",
       " 'hume': 53119,\n",
       " 'pinkish': 77281,\n",
       " 'xl0': 104689,\n",
       " 'iqveiqs5i': 56259,\n",
       " '2b_wnh': 8503,\n",
       " 'acx': 20591,\n",
       " 'rcj1d3j1d3hzrfdz': 82059,\n",
       " 'pressured': 78875,\n",
       " 'sundday': 92422,\n",
       " 'shz08': 88467,\n",
       " 'hypermedia': 53358,\n",
       " 'creams': 35217,\n",
       " '1321': 3145,\n",
       " 'erik': 42878,\n",
       " 'recoiled': 82430,\n",
       " 'baldur': 25324,\n",
       " 'giammarco': 48449,\n",
       " 'stel': 91357,\n",
       " 'indeterminism': 54984,\n",
       " '6501': 13535,\n",
       " 'intro': 55997,\n",
       " 'w7ahgludzrf9s': 101600,\n",
       " 'wmbxn': 103226,\n",
       " '9jk2': 18143,\n",
       " 'j2wsu9sy': 56902,\n",
       " '1z1': 6591,\n",
       " 'lennon': 61937,\n",
       " 'connecters': 34076,\n",
       " 'gtoal': 49871,\n",
       " 'unregulated': 98590,\n",
       " 'beware': 26510,\n",
       " 'yukawa': 106344,\n",
       " 'piped': 77311,\n",
       " 'deeds': 37358,\n",
       " 'vzngtl75u': 101332,\n",
       " 'rja7m': 84301,\n",
       " 'cfukq': 31297,\n",
       " 'autralian': 24475,\n",
       " 'pulsen': 79903,\n",
       " 'coma': 33306,\n",
       " 'pellettiere': 76322,\n",
       " 'dama': 36585,\n",
       " '6apr199314571378': 13931,\n",
       " 'snue': 89632,\n",
       " '9491': 17624,\n",
       " 'keyborads': 59514,\n",
       " 'pbmtext': 76071,\n",
       " 'academies': 20211,\n",
       " 'warantee': 101906,\n",
       " 'u5h9hm': 97210,\n",
       " '99a': 17921,\n",
       " 'k8gj': 58863,\n",
       " 'c4fahss': 29230,\n",
       " 'saleks': 86103,\n",
       " 'vqm': 101068,\n",
       " 'phoreceptors': 76997,\n",
       " 'counter': 34875,\n",
       " 'k0h': 58710,\n",
       " 'shipping': 88196,\n",
       " 'countersteer': 34894,\n",
       " 'rhoepnol': 83998,\n",
       " 'midwest': 67448,\n",
       " 'qgluje': 80509,\n",
       " 'grv101': 49753,\n",
       " 'twg': 96923,\n",
       " 'ko2eqr': 60267,\n",
       " 'ira': 56278,\n",
       " 'saus': 86409,\n",
       " '7pqnkod': 15760,\n",
       " 'shod6dz': 88246,\n",
       " 'cbr250r': 30902,\n",
       " 'vbdigiz': 99962,\n",
       " 'beezer': 26079,\n",
       " 'universitaet': 98405,\n",
       " 'cp30064': 35022,\n",
       " '4_1_3': 11404,\n",
       " 'hug': 53065,\n",
       " '0ntv': 1581,\n",
       " 'powerbook': 78423,\n",
       " 'btc': 28533,\n",
       " 'anus': 22796,\n",
       " 'pugilistic': 79860,\n",
       " 'zrlhzrck8d': 107353,\n",
       " 'els': 41930,\n",
       " 'i486s': 53586,\n",
       " 'grabs': 49266,\n",
       " '26zwn': 8054,\n",
       " 'tl77tu': 95376,\n",
       " 'malingerer': 65082,\n",
       " 'veid9': 100117,\n",
       " 'thunderforce': 95034,\n",
       " 'ngvz': 71651,\n",
       " 'w_width': 101680,\n",
       " 'iacj1ri': 53716,\n",
       " '692z': 13864,\n",
       " '165655': 4268,\n",
       " 'payoffs': 76037,\n",
       " '1qhfmg': 5980,\n",
       " 'material': 65660,\n",
       " 'roehm': 84766,\n",
       " 'separator': 87572,\n",
       " '24g7xte': 7763,\n",
       " 'jrmst8': 58266,\n",
       " 'gli2o6wcv': 48738,\n",
       " 'similar': 88707,\n",
       " 'lending': 61921,\n",
       " 'vests': 100329,\n",
       " 'everyother': 43415,\n",
       " 'esposito': 43068,\n",
       " 'sentient': 87546,\n",
       " 'elk8r': 41883,\n",
       " 'khmylev': 59688,\n",
       " 'dryness': 40243,\n",
       " 'impressive': 54680,\n",
       " '9f9l0qax': 18070,\n",
       " 'redheaded': 82564,\n",
       " 'artical': 23605,\n",
       " 'mntrv2krt': 68414,\n",
       " 'sfij': 87802,\n",
       " 'schadow': 86642,\n",
       " 'shake': 87910,\n",
       " 'barns': 25534,\n",
       " 'koenig': 60295,\n",
       " 'criss': 35334,\n",
       " 'svga': 92803,\n",
       " 'hc31': 51191,\n",
       " 'mgh1t8_': 67145,\n",
       " '2bc0d53b': 8510,\n",
       " 'compatibles': 33559,\n",
       " 'malaria': 65051,\n",
       " 'kh9_': 59626,\n",
       " 'tangy': 93748,\n",
       " 'gjbjt': 48628,\n",
       " 'wangdat': 101886,\n",
       " 'zation': 106735,\n",
       " '______': 18559,\n",
       " 'q3f': 80272,\n",
       " '2zk9': 9122,\n",
       " 'eagle': 40987,\n",
       " '965e965e9': 17739,\n",
       " 'tation': 93874,\n",
       " 'decryption': 37316,\n",
       " 'ntj': 72635,\n",
       " 'ssdc': 90890,\n",
       " 'b0d': 24837,\n",
       " 'mechanism': 66441,\n",
       " 'baffling': 25245,\n",
       " 'zbs': 106765,\n",
       " 'vsz': 101131,\n",
       " 'iowa': 56171,\n",
       " 'malamas': 65047,\n",
       " 'autostrade': 24467,\n",
       " 'mpvs0': 69216,\n",
       " 'hinderland': 51955,\n",
       " 'warrent': 101963,\n",
       " '577': 12465,\n",
       " 'sheva': 88140,\n",
       " 'sacred': 85969,\n",
       " 'jager': 57132,\n",
       " 'fidei': 45311,\n",
       " 'indecisive': 54955,\n",
       " 'qualitative': 80891,\n",
       " 'ingles': 55298,\n",
       " 'italian': 56612,\n",
       " 'conferred': 33936,\n",
       " 'makhlouf': 65036,\n",
       " 'rm125': 84491,\n",
       " 'reckoned': 82411,\n",
       " 'fwk': 47185,\n",
       " 'l7z_51': 61022,\n",
       " 'quadras': 80863,\n",
       " 'mi5': 67259,\n",
       " 'cj1rlk': 32409,\n",
       " '8l_fu8rji': 16851,\n",
       " 'attentively': 24185,\n",
       " 'flukes': 45955,\n",
       " 'idlw': 54020,\n",
       " 'murmurs': 69902,\n",
       " 'yk': 106069,\n",
       " 'fringes': 46770,\n",
       " '302': 9168,\n",
       " 'm8bgm86': 64406,\n",
       " 'hprpcd': 52848,\n",
       " 'idwe34u': 54043,\n",
       " 'a10k': 19575,\n",
       " 'cbnewsk': 30894,\n",
       " 'ge5': 47999,\n",
       " 'sharable': 87976,\n",
       " 'ceasefires': 31057,\n",
       " '1pmjo8inn2l0': 5803,\n",
       " 'wished': 103076,\n",
       " 'punchers': 79919,\n",
       " 'sasha': 86328,\n",
       " '2656': 8006,\n",
       " 'mrosales': 69428,\n",
       " 'laminated': 61226,\n",
       " '2stg': 8951,\n",
       " 'wce': 102151,\n",
       " 'acunerbb': 20576,\n",
       " 'agabalaevich': 21149,\n",
       " 'buchholz': 28568,\n",
       " '3yu': 10675,\n",
       " 'y7': 105643,\n",
       " 'lq9n': 63370,\n",
       " 'fedunix': 44948,\n",
       " 'hahietanen': 50568,\n",
       " 'dashes': 36757,\n",
       " '160224': 4058,\n",
       " 'simula': 88757,\n",
       " 'reinforcements': 82870,\n",
       " 'reach': 82152,\n",
       " 'uw1': 99307,\n",
       " 'tsr': 96615,\n",
       " 'xdbx': 104431,\n",
       " 'vatanseverlere': 99910,\n",
       " 'correct': 34723,\n",
       " 'b4g': 24914,\n",
       " 'authur': 24396,\n",
       " 'kevlar': 59500,\n",
       " 'assassinated': 23822,\n",
       " 'thickwire': 94793,\n",
       " 'boca': 27489,\n",
       " 'f3w2': 44201,\n",
       " 'rationing': 81863,\n",
       " 'limmiting': 62493,\n",
       " 'k_qe': 58929,\n",
       " '6tle': 14388,\n",
       " 'ck8rlhzrmam': 32450,\n",
       " 'xi9q': 104602,\n",
       " 'bloodline': 27270,\n",
       " 'maximizes': 65818,\n",
       " 's3dz': 85728,\n",
       " 'knox': 60251,\n",
       " 'd6f_': 36410,\n",
       " '3hjy7yi': 10281,\n",
       " 'antibacterial': 22711,\n",
       " 'villiages': 100575,\n",
       " 'roise': 84808,\n",
       " 'schmuck': 86729,\n",
       " 'eggebrecht': 41529,\n",
       " 'b4p': 24916,\n",
       " 'spice': 90364,\n",
       " 'empey': 42117,\n",
       " '9bsd': 17971,\n",
       " '9570': 17691,\n",
       " '3052': 9193,\n",
       " 'bun': 28750,\n",
       " 'pshuang': 79682,\n",
       " 'repugnant': 83361,\n",
       " 'plugs': 77758,\n",
       " 'c5ldod': 29627,\n",
       " 'koc': 60280,\n",
       " '6co6ejq': 13971,\n",
       " 'sentience': 87545,\n",
       " 'x10r4': 103953,\n",
       " '6royl0': 14348,\n",
       " 'neato': 71102,\n",
       " 'widgetwrap': 102767,\n",
       " 'wyspd': 103911,\n",
       " 'ima': 54389,\n",
       " 'xxx': 105478,\n",
       " 'lucifer': 63550,\n",
       " 'eje6fm_r3j6xk': 41678,\n",
       " '1953': 5138,\n",
       " 'je_pelkey': 57406,\n",
       " 'mother': 68986,\n",
       " 'nse97p5b3': 72575,\n",
       " 'stekt': 91355,\n",
       " 'lserjet': 63464,\n",
       " 'civ': 32353,\n",
       " 'salesperson': 86114,\n",
       " 'inhibit': 55337,\n",
       " 'mall': 65085,\n",
       " 'hurdles': 53180,\n",
       " 'uprights': 98878,\n",
       " 'bug': 28643,\n",
       " 'k5ps': 58814,\n",
       " 'transporter': 96164,\n",
       " 'echonology': 41181,\n",
       " 'gum7': 50006,\n",
       " 'lentement': 61948,\n",
       " 'urmzur': 98999,\n",
       " 'skreta': 89090,\n",
       " 'irrespective': 56373,\n",
       " 'calico': 30108,\n",
       " 'vy6t': 101296,\n",
       " '600v': 13185,\n",
       " '787': 15433,\n",
       " 'middlesex': 67426,\n",
       " 'portage': 78222,\n",
       " 'treasonable': 96239,\n",
       " 'rmqiru': 84529,\n",
       " 'conficts': 33947,\n",
       " 'pvw': 80091,\n",
       " 'cb900c': 30845,\n",
       " 'sypmtoms': 93150,\n",
       " 'stooges': 91619,\n",
       " 'unwantingly': 98743,\n",
       " 'corbo': 34640,\n",
       " 'daytime': 36922,\n",
       " 'sutter': 92771,\n",
       " 'extralibraries': 43984,\n",
       " '205654': 6839,\n",
       " 'bhpj3cc': 26629,\n",
       " 'lqs4uo': 63394,\n",
       " '257': 7889,\n",
       " 'busier': 28885,\n",
       " 'c52ep6': 29389,\n",
       " '00100011': 136,\n",
       " 'waiariki': 101775,\n",
       " 'providers': 79574,\n",
       " 'sneak': 89561,\n",
       " 'ozolinsh': 75072,\n",
       " 'presume': 78891,\n",
       " '10mb': 2305,\n",
       " 'airs': 21457,\n",
       " '6929': 13863,\n",
       " 'crew': 35281,\n",
       " 'dops': 39799,\n",
       " 'ynr': 106132,\n",
       " 'lafayette': 61159,\n",
       " 'hikes': 51907,\n",
       " '3hr': 10301,\n",
       " 'misinformed': 67838,\n",
       " '_spinal': 19370,\n",
       " 'bekaa': 26159,\n",
       " 'splendid': 90448,\n",
       " 'oof': 73974,\n",
       " '0le': 1524,\n",
       " 'h11f1': 50271,\n",
       " 'assignments': 23869,\n",
       " 'j20j': 56884,\n",
       " 'qa1': 80411,\n",
       " 'mehomitan': 66591,\n",
       " 'nengle': 71265,\n",
       " 'rotations': 84975,\n",
       " 'rohnertparkca': 84801,\n",
       " 'ducts': 40412,\n",
       " 'critics': 35355,\n",
       " 'apc': 22885,\n",
       " 'stby': 91271,\n",
       " '2907': 8351,\n",
       " 'join': 58030,\n",
       " 'dany': 36682,\n",
       " 'dmeier': 39479,\n",
       " 'x5ww': 104105,\n",
       " 'm9if': 64472,\n",
       " 'zea_s': 106847,\n",
       " 'nsfijlh': 72580,\n",
       " 'cyclinder': 36167,\n",
       " 'stereos': 91402,\n",
       " '14305': 3479,\n",
       " 'johs': 58029,\n",
       " 'u1jl': 97127,\n",
       " 'k04': 58704,\n",
       " 'quackery': 80852,\n",
       " 'sparklers': 90155,\n",
       " 'foreman': 46257,\n",
       " 'max251': 65790,\n",
       " 'neimark': 71239,\n",
       " 'frameworks': 46555,\n",
       " 'ue38': 97510,\n",
       " '15500': 3908,\n",
       " 'supposed': 92595,\n",
       " 'amigo': 22181,\n",
       " 'israelite': 56542,\n",
       " 'nagl': 70688,\n",
       " 'legalists': 61822,\n",
       " 'm0q': 63883,\n",
       " 'nigris': 71812,\n",
       " 'msuinfo': 69537,\n",
       " 'y6_': 105636,\n",
       " 'z75m': 106596,\n",
       " 'initworld': 55383,\n",
       " 'fabricate': 44365,\n",
       " '33136': 9449,\n",
       " 'prunet': 79623,\n",
       " '1993apr4': 5285,\n",
       " '10893': 2265,\n",
       " 'gemeinhart': 48066,\n",
       " 'm9t1ss': 64492,\n",
       " '1e23': 5488,\n",
       " 'pints': 77298,\n",
       " 'xey7': 104496,\n",
       " 'qmt3q': 80634,\n",
       " 'converter_data': 34482,\n",
       " 'brownmiller': 28391,\n",
       " 'wsidom': 103693,\n",
       " 'bm28': 27353,\n",
       " '6qw': 14324,\n",
       " '32bis': 9405,\n",
       " 'advathanksnce': 20872,\n",
       " 'oldword': 73759,\n",
       " 'subs': 92104,\n",
       " 'layouts': 61559,\n",
       " 'colonies': 33245,\n",
       " 'boosters': 27700,\n",
       " 'tiga': 95139,\n",
       " 'cobra': 33009,\n",
       " 'chandler': 31438,\n",
       " 'r0c': 81213,\n",
       " 'tcsteven': 93977,\n",
       " 'getproperty': 48319,\n",
       " 'pbpl77u': 76078,\n",
       " '_lv': 19088,\n",
       " 'hara': 50856,\n",
       " 'forgoes': 46299,\n",
       " 'tiros': 95297,\n",
       " 'amat': 22079,\n",
       " 'bridgeport': 28219,\n",
       " 'd6235a': 36375,\n",
       " 'f8': 44283,\n",
       " 'mbyets': 65966,\n",
       " 'penalties': 76347,\n",
       " 'assyria': 23918,\n",
       " 'shamrocks': 87943,\n",
       " 'baird': 25283,\n",
       " '8efv6': 16736,\n",
       " 'mecr': 66460,\n",
       " 'putt': 80061,\n",
       " 'rknight': 84360,\n",
       " '336549999999999955e': 9484,\n",
       " 'creatures': 35239,\n",
       " '000000e5': 18,\n",
       " 'teaming': 94031,\n",
       " 'n101': 70407,\n",
       " 'noel': 72142,\n",
       " 'rs8': 85169,\n",
       " 'toutatis': 95819,\n",
       " 'myths': 70310,\n",
       " 'steinar': 91339,\n",
       " 'meguiar': 66580,\n",
       " '11613': 2657,\n",
       " 'amounts': 22226,\n",
       " 'bcars194': 25828,\n",
       " 'g80xl': 47443,\n",
       " 'threshold': 94944,\n",
       " 'claw': 32578,\n",
       " 'apg14': 22901,\n",
       " '2900': 8343,\n",
       " 'qdvhpw46': 80468,\n",
       " '1ya': 6579,\n",
       " 'osc': 74494,\n",
       " 'monthes': 68788,\n",
       " 'smacked': 89373,\n",
       " 'lorpu': 63221,\n",
       " 'british': 28281,\n",
       " 'phh8': 76901,\n",
       " '02m': 678,\n",
       " 'yvon': 106393,\n",
       " 'exmpale': 43746,\n",
       " 'pkjrpb': 77461,\n",
       " 'oort': 73991,\n",
       " '6086': 13232,\n",
       " 'hmmm': 52184,\n",
       " 'loral': 63195,\n",
       " '8zkzcp': 17113,\n",
       " 'nia': 71699,\n",
       " 'k0y0': 58716,\n",
       " 'minh': 67666,\n",
       " 'database': 36779,\n",
       " 'hides': 51862,\n",
       " 'arround': 23573,\n",
       " 'interrupted': 55904,\n",
       " 'pne1whj': 77872,\n",
       " 'tempe': 94245,\n",
       " 'as1': 23654,\n",
       " 'cpcahil': 35055,\n",
       " 'elee7h5': 41804,\n",
       " 'dangling': 36649,\n",
       " 'bgn': 26560,\n",
       " '0pf': 1608,\n",
       " 'xhkk': 104584,\n",
       " 'xbutton': 104359,\n",
       " 'theunissen': 94767,\n",
       " 'somekind': 89852,\n",
       " '2ykfql0': 9106,\n",
       " 'mgr': 67167,\n",
       " '00g': 303,\n",
       " 'eves': 43418,\n",
       " '90ma': 17185,\n",
       " '6v': 14441,\n",
       " '541': 12211,\n",
       " 'doppler': 39798,\n",
       " 'receipts': 82351,\n",
       " 'fence': 45050,\n",
       " 'eucalyptus': 43253,\n",
       " 'h8orcho': 50400,\n",
       " 'fidogate': 45317,\n",
       " 'databehandling': 36781,\n",
       " 'tactile': 93577,\n",
       " 'nkissebe': 71978,\n",
       " 'a17r': 19585,\n",
       " 'forwarded': 46399,\n",
       " 'photometry': 77026,\n",
       " 'nebulisers': 71111,\n",
       " 'kehrer': 59359,\n",
       " 't5bn': 93382,\n",
       " 'yung_____ry01': 106353,\n",
       " 'wcha': 102155,\n",
       " 'crabbe': 35117,\n",
       " 'g9ye': 47508,\n",
       " 'warns': 101949,\n",
       " 'rightfully': 84132,\n",
       " 'geex': 48039,\n",
       " ...}"
      ]
     },
     "execution_count": 33,
     "metadata": {},
     "output_type": "execute_result"
    }
   ],
   "source": [
    "vectorizer.vocabulary_"
   ]
  },
  {
   "cell_type": "markdown",
   "metadata": {},
   "source": [
    "Воспользуемся логистической регрессией (линейный алгоритм для классификации), обучим его и оценим качество (долю верно предсказанных категорий) на отложенной выборке."
   ]
  },
  {
   "cell_type": "code",
   "execution_count": 34,
   "metadata": {
    "collapsed": true
   },
   "outputs": [],
   "source": [
    "from sklearn.linear_model import LogisticRegression"
   ]
  },
  {
   "cell_type": "code",
   "execution_count": 35,
   "metadata": {
    "collapsed": true
   },
   "outputs": [],
   "source": [
    "classifier = LogisticRegression()\n",
    "classifier.fit(train_vectors, y_train)\n",
    "y_predict = classifier.predict(test_vectors)"
   ]
  },
  {
   "cell_type": "code",
   "execution_count": 36,
   "metadata": {},
   "outputs": [
    {
     "data": {
      "text/plain": [
       "0.88659793814432986"
      ]
     },
     "execution_count": 36,
     "metadata": {},
     "output_type": "execute_result"
    }
   ],
   "source": [
    "np.mean(y_predict == y_test)"
   ]
  },
  {
   "cell_type": "markdown",
   "metadata": {},
   "source": [
    "Опять же мы делали все те же самые действия и использовали почти только один scikit-learn.\n",
    "\n",
    "Нам так же могло понадобиться:\n",
    "- закодировать строковый категориальный признак числами (sklearn.preprocessing.LabelEncoding)\n",
    "- воспользовать одной из реализованных метрик для оценки качества (sklearn.metrics)\n",
    "- ..."
   ]
  }
 ],
 "metadata": {
  "kernelspec": {
   "display_name": "Python [conda root]",
   "language": "python",
   "name": "conda-root-py"
  },
  "language_info": {
   "codemirror_mode": {
    "name": "ipython",
    "version": 3
   },
   "file_extension": ".py",
   "mimetype": "text/x-python",
   "name": "python",
   "nbconvert_exporter": "python",
   "pygments_lexer": "ipython3",
   "version": "3.5.3"
  }
 },
 "nbformat": 4,
 "nbformat_minor": 2
}
